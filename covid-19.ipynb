{
 "cells": [
  {
   "cell_type": "code",
   "execution_count": 83,
   "metadata": {},
   "outputs": [],
   "source": [
    "#reference\n",
    "#https://keras.io/applications/\n",
    "#https://www.pyimagesearch.com/\n",
    "\n",
    "import os\n",
    "import matplotlib.pyplot as plt\n",
    "from imutils import paths\n",
    "import cv2\n",
    "import numpy as np\n",
    "from sklearn.model_selection import train_test_split\n",
    "from keras.utils import to_categorical\n",
    "from keras.models import Model\n",
    "from sklearn.preprocessing import LabelBinarizer\n",
    "from keras.callbacks import ModelCheckpoint\n",
    "from keras.optimizers import Adam\n",
    "from keras.models import Sequential\n",
    "from keras.layers import Dense, Conv2D, Flatten\n",
    "from keras.layers import Activation, Dropout, Flatten, Dense\n",
    "from sklearn.metrics import classification_report"
   ]
  },
  {
   "cell_type": "code",
   "execution_count": 65,
   "metadata": {},
   "outputs": [],
   "source": [
    "imagePath=list(paths.list_images(\"dataset\"))"
   ]
  },
  {
   "cell_type": "code",
   "execution_count": 66,
   "metadata": {},
   "outputs": [],
   "source": [
    "data=[]\n",
    "labels=[]\n",
    "\n",
    "for imPath in imagePath:\n",
    "    label=imPath.split(os.path.sep)[-2]\n",
    "    img=cv2.imread(imPath)\n",
    "    img=cv2.cvtColor(img, cv2.COLOR_BGR2RGB)\n",
    "    img=cv2.resize(img,(224,224))\n",
    "    data.append(img)\n",
    "    labels.append(label)"
   ]
  },
  {
   "cell_type": "code",
   "execution_count": 67,
   "metadata": {},
   "outputs": [],
   "source": [
    "data=np.array(data)/255.0\n",
    "label=np.array(labels)\n",
    "lb=LabelBinarizer()\n",
    "label=lb.fit_transform(label)\n",
    "\n",
    "label=to_categorical(label)"
   ]
  },
  {
   "cell_type": "code",
   "execution_count": 68,
   "metadata": {},
   "outputs": [],
   "source": [
    "train_X,test_X,train_y,test_y=train_test_split(data,label, test_size=0.2,stratify=label,random_state=40)"
   ]
  },
  {
   "cell_type": "code",
   "execution_count": 69,
   "metadata": {},
   "outputs": [],
   "source": [
    "model=Sequential()\n",
    "model.add(Conv2D(64, kernel_size=3, activation=\"relu\", input_shape=(224,224,3)))\n",
    "model.add(Conv2D(64, kernel_size=3, activation=\"relu\") )\n",
    "model.add(Conv2D(64, kernel_size=3, activation=\"relu\"))\n",
    "model.add(Dense(4, activation=\"relu\"))\n",
    "model.add(Flatten())\n",
    "model.add(Dense(64))\n",
    "model.add(Activation('relu'))\n",
    "model.add(Dropout(0.5))\n",
    "model.add(Dense(2,activation=\"softmax\"))\n"
   ]
  },
  {
   "cell_type": "code",
   "execution_count": 70,
   "metadata": {},
   "outputs": [
    {
     "name": "stdout",
     "output_type": "stream",
     "text": [
      "Model: \"sequential_9\"\n",
      "_________________________________________________________________\n",
      "Layer (type)                 Output Shape              Param #   \n",
      "=================================================================\n",
      "conv2d_9 (Conv2D)            (None, 222, 222, 64)      1792      \n",
      "_________________________________________________________________\n",
      "conv2d_10 (Conv2D)           (None, 220, 220, 64)      36928     \n",
      "_________________________________________________________________\n",
      "conv2d_11 (Conv2D)           (None, 218, 218, 64)      36928     \n",
      "_________________________________________________________________\n",
      "dense_10 (Dense)             (None, 218, 218, 4)       260       \n",
      "_________________________________________________________________\n",
      "flatten_4 (Flatten)          (None, 190096)            0         \n",
      "_________________________________________________________________\n",
      "dense_11 (Dense)             (None, 64)                12166208  \n",
      "_________________________________________________________________\n",
      "activation_4 (Activation)    (None, 64)                0         \n",
      "_________________________________________________________________\n",
      "dropout_4 (Dropout)          (None, 64)                0         \n",
      "_________________________________________________________________\n",
      "dense_12 (Dense)             (None, 2)                 130       \n",
      "=================================================================\n",
      "Total params: 12,242,246\n",
      "Trainable params: 12,242,246\n",
      "Non-trainable params: 0\n",
      "_________________________________________________________________\n"
     ]
    }
   ],
   "source": [
    "model.summary()"
   ]
  },
  {
   "cell_type": "code",
   "execution_count": 71,
   "metadata": {},
   "outputs": [],
   "source": [
    "opt=Adam(lr=0.0001, decay=0.0001/20)\n",
    "model.compile(optimizer=opt,loss=\"categorical_crossentropy\", metrics=[\"accuracy\"])"
   ]
  },
  {
   "cell_type": "code",
   "execution_count": 76,
   "metadata": {},
   "outputs": [],
   "source": [
    "filepath=\"covid-19.hdf5\"\n",
    "checkpoint = ModelCheckpoint(filepath, monitor='val_accuracy', verbose=1, save_best_only=True, mode='max')\n",
    "callbacks_list = [checkpoint]"
   ]
  },
  {
   "cell_type": "code",
   "execution_count": 77,
   "metadata": {},
   "outputs": [
    {
     "name": "stdout",
     "output_type": "stream",
     "text": [
      "Train on 40 samples, validate on 10 samples\n",
      "Epoch 1/20\n",
      "40/40 [==============================] - 10s 258ms/step - loss: 0.1252 - accuracy: 0.9750 - val_loss: 0.0388 - val_accuracy: 1.0000\n",
      "\n",
      "Epoch 00001: val_accuracy improved from -inf to 1.00000, saving model to covid-19.hdf5\n",
      "Epoch 2/20\n",
      "40/40 [==============================] - 10s 245ms/step - loss: 0.0925 - accuracy: 0.9750 - val_loss: 0.0149 - val_accuracy: 1.0000\n",
      "\n",
      "Epoch 00002: val_accuracy did not improve from 1.00000\n",
      "Epoch 3/20\n",
      "40/40 [==============================] - 11s 285ms/step - loss: 0.0880 - accuracy: 0.9750 - val_loss: 0.0492 - val_accuracy: 1.0000\n",
      "\n",
      "Epoch 00003: val_accuracy did not improve from 1.00000\n",
      "Epoch 4/20\n",
      "40/40 [==============================] - 12s 299ms/step - loss: 0.1920 - accuracy: 0.9000 - val_loss: 0.0167 - val_accuracy: 1.0000\n",
      "\n",
      "Epoch 00004: val_accuracy did not improve from 1.00000\n",
      "Epoch 5/20\n",
      "40/40 [==============================] - 11s 284ms/step - loss: 0.0817 - accuracy: 0.9750 - val_loss: 0.0260 - val_accuracy: 1.0000\n",
      "\n",
      "Epoch 00005: val_accuracy did not improve from 1.00000\n",
      "Epoch 6/20\n",
      "40/40 [==============================] - 12s 294ms/step - loss: 0.0739 - accuracy: 1.0000 - val_loss: 0.1026 - val_accuracy: 1.0000\n",
      "\n",
      "Epoch 00006: val_accuracy did not improve from 1.00000\n",
      "Epoch 7/20\n",
      "40/40 [==============================] - 12s 300ms/step - loss: 0.1402 - accuracy: 0.9500 - val_loss: 0.0340 - val_accuracy: 1.0000\n",
      "\n",
      "Epoch 00007: val_accuracy did not improve from 1.00000\n",
      "Epoch 8/20\n",
      "40/40 [==============================] - 14s 345ms/step - loss: 0.0994 - accuracy: 0.9500 - val_loss: 0.0073 - val_accuracy: 1.0000\n",
      "\n",
      "Epoch 00008: val_accuracy did not improve from 1.00000\n",
      "Epoch 9/20\n",
      "40/40 [==============================] - 11s 275ms/step - loss: 0.0489 - accuracy: 1.0000 - val_loss: 0.0037 - val_accuracy: 1.0000\n",
      "\n",
      "Epoch 00009: val_accuracy did not improve from 1.00000\n",
      "Epoch 10/20\n",
      "40/40 [==============================] - 10s 262ms/step - loss: 0.0708 - accuracy: 0.9750 - val_loss: 0.0051 - val_accuracy: 1.0000\n",
      "\n",
      "Epoch 00010: val_accuracy did not improve from 1.00000\n",
      "Epoch 11/20\n",
      "40/40 [==============================] - 11s 272ms/step - loss: 0.0310 - accuracy: 1.0000 - val_loss: 0.0078 - val_accuracy: 1.0000\n",
      "\n",
      "Epoch 00011: val_accuracy did not improve from 1.00000\n",
      "Epoch 12/20\n",
      "40/40 [==============================] - 12s 290ms/step - loss: 0.2313 - accuracy: 0.9000 - val_loss: 0.0058 - val_accuracy: 1.0000\n",
      "\n",
      "Epoch 00012: val_accuracy did not improve from 1.00000\n",
      "Epoch 13/20\n",
      "40/40 [==============================] - 11s 271ms/step - loss: 0.1275 - accuracy: 0.9500 - val_loss: 0.0015 - val_accuracy: 1.0000\n",
      "\n",
      "Epoch 00013: val_accuracy did not improve from 1.00000\n",
      "Epoch 14/20\n",
      "40/40 [==============================] - 11s 273ms/step - loss: 0.0671 - accuracy: 1.0000 - val_loss: 0.0011 - val_accuracy: 1.0000\n",
      "\n",
      "Epoch 00014: val_accuracy did not improve from 1.00000\n",
      "Epoch 15/20\n",
      "40/40 [==============================] - 10s 259ms/step - loss: 0.0278 - accuracy: 1.0000 - val_loss: 0.0019 - val_accuracy: 1.0000\n",
      "\n",
      "Epoch 00015: val_accuracy did not improve from 1.00000\n",
      "Epoch 16/20\n",
      "40/40 [==============================] - 11s 276ms/step - loss: 0.0431 - accuracy: 1.0000 - val_loss: 0.0022 - val_accuracy: 1.0000\n",
      "\n",
      "Epoch 00016: val_accuracy did not improve from 1.00000\n",
      "Epoch 17/20\n",
      "40/40 [==============================] - 11s 276ms/step - loss: 0.0574 - accuracy: 0.9750 - val_loss: 0.0021 - val_accuracy: 1.0000\n",
      "\n",
      "Epoch 00017: val_accuracy did not improve from 1.00000\n",
      "Epoch 18/20\n",
      "40/40 [==============================] - 11s 267ms/step - loss: 0.0930 - accuracy: 0.9750 - val_loss: 0.0023 - val_accuracy: 1.0000\n",
      "\n",
      "Epoch 00018: val_accuracy did not improve from 1.00000\n",
      "Epoch 19/20\n",
      "40/40 [==============================] - 10s 259ms/step - loss: 0.0561 - accuracy: 0.9750 - val_loss: 0.0026 - val_accuracy: 1.0000\n",
      "\n",
      "Epoch 00019: val_accuracy did not improve from 1.00000\n",
      "Epoch 20/20\n",
      "40/40 [==============================] - 10s 261ms/step - loss: 0.0741 - accuracy: 0.9500 - val_loss: 0.0035 - val_accuracy: 1.0000\n",
      "\n",
      "Epoch 00020: val_accuracy did not improve from 1.00000\n"
     ]
    }
   ],
   "source": [
    "H=model.fit(train_X, train_y, epochs=20, validation_data=(test_X, test_y), callbacks=callbacks_list)\n"
   ]
  },
  {
   "cell_type": "code",
   "execution_count": 86,
   "metadata": {},
   "outputs": [
    {
     "data": {
      "text/plain": [
       "<matplotlib.legend.Legend at 0x1a2a4d5b108>"
      ]
     },
     "execution_count": 86,
     "metadata": {},
     "output_type": "execute_result"
    },
    {
     "data": {
      "image/png": "[encoded data removed]",
      "text/plain": [
       "<Figure size 432x288 with 1 Axes>"
      ]
     },
     "metadata": {},
     "output_type": "display_data"
    }
   ],
   "source": [
    "train_loss=H.history['loss']\n",
    "val_loss=H.history['val_loss']\n",
    "N=20 #number of epochs\n",
    "plt.style.use(\"ggplot\")\n",
    "plt.figure()\n",
    "plt.plot(np.arange(0, N), H.history[\"loss\"], label=\"train_loss\")\n",
    "plt.plot(np.arange(0, N), H.history[\"val_loss\"], label=\"val_loss\")\n",
    "plt.plot(np.arange(0, N), H.history[\"accuracy\"], label=\"train_acc\")\n",
    "plt.plot(np.arange(0, N), H.history[\"val_accuracy\"], label=\"val_acc\")\n",
    "plt.title(\"Training Loss and Accuracy on COVID-19 Dataset\")\n",
    "plt.xlabel(\"Epoch #\")\n",
    "plt.ylabel(\"Loss/Accuracy\")\n",
    "plt.legend(loc=\"lower left\")\n"
   ]
  },
  {
   "cell_type": "code",
   "execution_count": 85,
   "metadata": {},
   "outputs": [
    {
     "name": "stdout",
     "output_type": "stream",
     "text": [
      "              precision    recall  f1-score   support\n",
      "\n",
      "       covid       1.00      1.00      1.00         5\n",
      "      normal       1.00      1.00      1.00         5\n",
      "\n",
      "    accuracy                           1.00        10\n",
      "   macro avg       1.00      1.00      1.00        10\n",
      "weighted avg       1.00      1.00      1.00        10\n",
      "\n"
     ]
    }
   ],
   "source": [
    "pred=model.predict(test_X)\n",
    "pred = np.argmax(pred, axis=1)\n",
    "print(classification_report(test_y.argmax(axis=1), pred, target_names=lb.classes_))"
   ]
  },
  {
   "cell_type": "code",
   "execution_count": null,
   "metadata": {},
   "outputs": [],
   "source": [
    "\n",
    "\n"
   ]
  },
  {
   "cell_type": "code",
   "execution_count": null,
   "metadata": {},
   "outputs": [],
   "source": []
  },
  {
   "cell_type": "code",
   "execution_count": null,
   "metadata": {},
   "outputs": [],
   "source": [
    "\n",
    "\n"
   ]
  },
  {
   "cell_type": "code",
   "execution_count": null,
   "metadata": {},
   "outputs": [],
   "source": []
  },
  {
   "cell_type": "code",
   "execution_count": null,
   "metadata": {},
   "outputs": [],
   "source": []
  }
 ],
 "metadata": {
  "kernelspec": {
   "display_name": "Python 3",
   "language": "python",
   "name": "python3"
  },
  "language_info": {
   "codemirror_mode": {
    "name": "ipython",
    "version": 3
   },
   "file_extension": ".py",
   "mimetype": "text/x-python",
   "name": "python",
   "nbconvert_exporter": "python",
   "pygments_lexer": "ipython3",
   "version": "3.7.5"
  }
 },
 "nbformat": 4,
 "nbformat_minor": 2
}
