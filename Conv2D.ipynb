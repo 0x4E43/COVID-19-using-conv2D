{
  "nbformat": 4,
  "nbformat_minor": 0,
  "metadata": {
    "kernelspec": {
      "name": "python3",
      "display_name": "Python 3"
    },
    "language_info": {
      "codemirror_mode": {
        "name": "ipython",
        "version": 3
      },
      "file_extension": ".py",
      "mimetype": "text/x-python",
      "name": "python",
      "nbconvert_exporter": "python",
      "pygments_lexer": "ipython3",
      "version": "3.7.5"
    },
    "colab": {
      "name": "separate.ipynb",
      "provenance": [],
      "collapsed_sections": [],
      "machine_shape": "hm",
      "include_colab_link": true
    },
    "accelerator": "TPU"
  },
  "cells": [
    {
      "cell_type": "markdown",
      "metadata": {
        "id": "view-in-github",
        "colab_type": "text"
      },
      "source": [
        "<a href=\"https://colab.research.google.com/github/NimaiCharan/COVID-19-using-conv2D/blob/master/Conv2D.ipynb\" target=\"_parent\"><img src=\"https://colab.research.google.com/assets/colab-badge.svg\" alt=\"Open In Colab\"/></a>"
      ]
    },
    {
      "cell_type": "code",
      "metadata": {
        "id": "T50zCvDoEa2P",
        "colab_type": "code",
        "outputId": "5d677b14-b298-4c97-ce50-5a7222b863e4",
        "colab": {
          "base_uri": "https://localhost:8080/",
          "height": 154
        }
      },
      "source": [
        "\n",
        "from google.colab import drive\n",
        "drive.mount('/gdrive')\n",
        "%cd /gdrive/My Drive/Colab Notebooks/COVID-19\n",
        "!ls"
      ],
      "execution_count": 2,
      "outputs": [
        {
          "output_type": "stream",
          "text": [
            "Go to this URL in a browser: https://accounts.google.com/o/oauth2/auth?client_id=947318989803-6bn6qk8qdgf4n4g3pfee6491hc0brc4i.apps.googleusercontent.com&redirect_uri=urn%3aietf%3awg%3aoauth%3a2.0%3aoob&response_type=code&scope=email%20https%3a%2f%2fwww.googleapis.com%2fauth%2fdocs.test%20https%3a%2f%2fwww.googleapis.com%2fauth%2fdrive%20https%3a%2f%2fwww.googleapis.com%2fauth%2fdrive.photos.readonly%20https%3a%2f%2fwww.googleapis.com%2fauth%2fpeopleapi.readonly\n",
            "\n",
            "Enter your authorization code:\n",
            "··········\n",
            "Mounted at /gdrive\n",
            "/gdrive/My Drive/Colab Notebooks/COVID-19\n",
            "covid-19.hdf5  dataset\tmetadata.csv  separate.ipynb\n"
          ],
          "name": "stdout"
        }
      ]
    },
    {
      "cell_type": "code",
      "metadata": {
        "id": "YM8eRRCiEa2V",
        "colab_type": "code",
        "outputId": "51d5fe78-5e8b-4d68-cacd-5ce9dc0e21f1",
        "colab": {
          "base_uri": "https://localhost:8080/",
          "height": 383
        }
      },
      "source": [
        "import pandas as pd\n",
        "#data pre processing for seprating covid data and other data\n",
        "user_data=pd.read_csv(\"metadata.csv\")\n",
        "user_data.head()"
      ],
      "execution_count": 0,
      "outputs": [
        {
          "output_type": "execute_result",
          "data": {
            "text/html": [
              "<div>\n",
              "<style scoped>\n",
              "    .dataframe tbody tr th:only-of-type {\n",
              "        vertical-align: middle;\n",
              "    }\n",
              "\n",
              "    .dataframe tbody tr th {\n",
              "        vertical-align: top;\n",
              "    }\n",
              "\n",
              "    .dataframe thead th {\n",
              "        text-align: right;\n",
              "    }\n",
              "</style>\n",
              "<table border=\"1\" class=\"dataframe\">\n",
              "  <thead>\n",
              "    <tr style=\"text-align: right;\">\n",
              "      <th></th>\n",
              "      <th>Patientid</th>\n",
              "      <th>offset</th>\n",
              "      <th>sex</th>\n",
              "      <th>age</th>\n",
              "      <th>finding</th>\n",
              "      <th>survival</th>\n",
              "      <th>view</th>\n",
              "      <th>modality</th>\n",
              "      <th>date</th>\n",
              "      <th>location</th>\n",
              "      <th>filename</th>\n",
              "      <th>doi</th>\n",
              "      <th>url</th>\n",
              "      <th>license</th>\n",
              "      <th>clinical notes</th>\n",
              "      <th>other notes</th>\n",
              "      <th>Unnamed: 16</th>\n",
              "    </tr>\n",
              "  </thead>\n",
              "  <tbody>\n",
              "    <tr>\n",
              "      <th>0</th>\n",
              "      <td>2</td>\n",
              "      <td>0.0</td>\n",
              "      <td>M</td>\n",
              "      <td>65.0</td>\n",
              "      <td>COVID-19</td>\n",
              "      <td>Y</td>\n",
              "      <td>PA</td>\n",
              "      <td>X-ray</td>\n",
              "      <td>2020</td>\n",
              "      <td>NaN</td>\n",
              "      <td>auntminnie-a-2020_01_28_23_51_6665_2020_01_28_...</td>\n",
              "      <td>10.1056/nejmc2001272</td>\n",
              "      <td>https://www.nejm.org/doi/full/10.1056/NEJMc200...</td>\n",
              "      <td>NaN</td>\n",
              "      <td>NaN</td>\n",
              "      <td>NaN</td>\n",
              "      <td>NaN</td>\n",
              "    </tr>\n",
              "    <tr>\n",
              "      <th>1</th>\n",
              "      <td>2</td>\n",
              "      <td>3.0</td>\n",
              "      <td>M</td>\n",
              "      <td>65.0</td>\n",
              "      <td>COVID-19</td>\n",
              "      <td>Y</td>\n",
              "      <td>PA</td>\n",
              "      <td>X-ray</td>\n",
              "      <td>2020</td>\n",
              "      <td>NaN</td>\n",
              "      <td>auntminnie-b-2020_01_28_23_51_6665_2020_01_28_...</td>\n",
              "      <td>10.1056/nejmc2001272</td>\n",
              "      <td>https://www.nejm.org/doi/full/10.1056/NEJMc200...</td>\n",
              "      <td>NaN</td>\n",
              "      <td>NaN</td>\n",
              "      <td>NaN</td>\n",
              "      <td>NaN</td>\n",
              "    </tr>\n",
              "    <tr>\n",
              "      <th>2</th>\n",
              "      <td>2</td>\n",
              "      <td>5.0</td>\n",
              "      <td>M</td>\n",
              "      <td>65.0</td>\n",
              "      <td>COVID-19</td>\n",
              "      <td>Y</td>\n",
              "      <td>PA</td>\n",
              "      <td>X-ray</td>\n",
              "      <td>2020</td>\n",
              "      <td>NaN</td>\n",
              "      <td>auntminnie-c-2020_01_28_23_51_6665_2020_01_28_...</td>\n",
              "      <td>10.1056/nejmc2001272</td>\n",
              "      <td>https://www.nejm.org/doi/full/10.1056/NEJMc200...</td>\n",
              "      <td>NaN</td>\n",
              "      <td>NaN</td>\n",
              "      <td>NaN</td>\n",
              "      <td>NaN</td>\n",
              "    </tr>\n",
              "    <tr>\n",
              "      <th>3</th>\n",
              "      <td>2</td>\n",
              "      <td>6.0</td>\n",
              "      <td>M</td>\n",
              "      <td>65.0</td>\n",
              "      <td>COVID-19</td>\n",
              "      <td>Y</td>\n",
              "      <td>PA</td>\n",
              "      <td>X-ray</td>\n",
              "      <td>2020</td>\n",
              "      <td>NaN</td>\n",
              "      <td>auntminnie-d-2020_01_28_23_51_6665_2020_01_28_...</td>\n",
              "      <td>10.1056/nejmc2001272</td>\n",
              "      <td>https://www.nejm.org/doi/full/10.1056/NEJMc200...</td>\n",
              "      <td>NaN</td>\n",
              "      <td>NaN</td>\n",
              "      <td>NaN</td>\n",
              "      <td>NaN</td>\n",
              "    </tr>\n",
              "    <tr>\n",
              "      <th>4</th>\n",
              "      <td>4</td>\n",
              "      <td>0.0</td>\n",
              "      <td>F</td>\n",
              "      <td>52.0</td>\n",
              "      <td>COVID-19</td>\n",
              "      <td>NaN</td>\n",
              "      <td>PA</td>\n",
              "      <td>X-ray</td>\n",
              "      <td>2020</td>\n",
              "      <td>Changhua Christian Hospital, Changhua City, Ta...</td>\n",
              "      <td>nejmc2001573_f1a.jpeg</td>\n",
              "      <td>10.1056/NEJMc2001573</td>\n",
              "      <td>https://www.nejm.org/doi/full/10.1056/NEJMc200...</td>\n",
              "      <td>NaN</td>\n",
              "      <td>diffuse infiltrates in the bilateral lower lungs</td>\n",
              "      <td>NaN</td>\n",
              "      <td>NaN</td>\n",
              "    </tr>\n",
              "  </tbody>\n",
              "</table>\n",
              "</div>"
            ],
            "text/plain": [
              "   Patientid  offset  ... other notes  Unnamed: 16\n",
              "0          2     0.0  ...         NaN          NaN\n",
              "1          2     3.0  ...         NaN          NaN\n",
              "2          2     5.0  ...         NaN          NaN\n",
              "3          2     6.0  ...         NaN          NaN\n",
              "4          4     0.0  ...         NaN          NaN\n",
              "\n",
              "[5 rows x 17 columns]"
            ]
          },
          "metadata": {
            "tags": []
          },
          "execution_count": 2
        }
      ]
    },
    {
      "cell_type": "code",
      "metadata": {
        "id": "s7-H2AMwEa2c",
        "colab_type": "code",
        "outputId": "3762af74-f243-4f49-90ba-e0c2d080e7ee",
        "colab": {
          "base_uri": "https://localhost:8080/",
          "height": 202
        }
      },
      "source": [
        "data_covid=user_data[user_data[\"finding\"]==\"COVID-19\"]\n",
        "non_covid=user_data[user_data[\"finding\"]!=\"COVID-19\"]\n",
        "data_covid[\"filename\"].head(10)\n"
      ],
      "execution_count": 0,
      "outputs": [
        {
          "output_type": "execute_result",
          "data": {
            "text/plain": [
              "0     auntminnie-a-2020_01_28_23_51_6665_2020_01_28_...\n",
              "1     auntminnie-b-2020_01_28_23_51_6665_2020_01_28_...\n",
              "2     auntminnie-c-2020_01_28_23_51_6665_2020_01_28_...\n",
              "3     auntminnie-d-2020_01_28_23_51_6665_2020_01_28_...\n",
              "4                                 nejmc2001573_f1a.jpeg\n",
              "5                                 nejmc2001573_f1b.jpeg\n",
              "7                                     lancet-case2a.jpg\n",
              "8                                     lancet-case2b.jpg\n",
              "20                 1-s2.0-S0140673620303706-fx1_lrg.jpg\n",
              "21                nCoV-radiol.2020200269.fig1-day7.jpeg\n",
              "Name: filename, dtype: object"
            ]
          },
          "metadata": {
            "tags": []
          },
          "execution_count": 4
        }
      ]
    },
    {
      "cell_type": "code",
      "metadata": {
        "id": "lUBin-nnEa2l",
        "colab_type": "code",
        "outputId": "eab69c9f-d6ee-4aa3-cb97-7f4c609994ad",
        "colab": {
          "base_uri": "https://localhost:8080/",
          "height": 370
        }
      },
      "source": [
        "\n",
        "import shutil\n",
        "\n",
        "#separating covid xray\n",
        "des=\"dataset/covid/\"\n",
        "for dat in data_covid[\"filename\"]:\n",
        "    shutil.copy(\"images\\\\\"+dat,des)\n",
        "#separating covid xray\n",
        "dest=\"dataset/normal/\"\n",
        "for dat in non_covid[\"filename\"]:\n",
        "    shutil.copy(\"images\\\\\"+dat,dest)\n",
        "    "
      ],
      "execution_count": 0,
      "outputs": [
        {
          "output_type": "error",
          "ename": "FileNotFoundError",
          "evalue": "ignored",
          "traceback": [
            "\u001b[0;31m---------------------------------------------------------------------------\u001b[0m",
            "\u001b[0;31mFileNotFoundError\u001b[0m                         Traceback (most recent call last)",
            "\u001b[0;32m<ipython-input-5-d5f4320c5a7f>\u001b[0m in \u001b[0;36m<module>\u001b[0;34m()\u001b[0m\n\u001b[1;32m      5\u001b[0m \u001b[0mdes\u001b[0m\u001b[0;34m=\u001b[0m\u001b[0;34m\"dataset/covid/\"\u001b[0m\u001b[0;34m\u001b[0m\u001b[0;34m\u001b[0m\u001b[0m\n\u001b[1;32m      6\u001b[0m \u001b[0;32mfor\u001b[0m \u001b[0mdat\u001b[0m \u001b[0;32min\u001b[0m \u001b[0mdata_covid\u001b[0m\u001b[0;34m[\u001b[0m\u001b[0;34m\"filename\"\u001b[0m\u001b[0;34m]\u001b[0m\u001b[0;34m:\u001b[0m\u001b[0;34m\u001b[0m\u001b[0;34m\u001b[0m\u001b[0m\n\u001b[0;32m----> 7\u001b[0;31m     \u001b[0mshutil\u001b[0m\u001b[0;34m.\u001b[0m\u001b[0mcopy\u001b[0m\u001b[0;34m(\u001b[0m\u001b[0;34m\"images\\\\\"\u001b[0m\u001b[0;34m+\u001b[0m\u001b[0mdat\u001b[0m\u001b[0;34m,\u001b[0m\u001b[0mdes\u001b[0m\u001b[0;34m)\u001b[0m\u001b[0;34m\u001b[0m\u001b[0;34m\u001b[0m\u001b[0m\n\u001b[0m\u001b[1;32m      8\u001b[0m \u001b[0;31m#separating covid xray\u001b[0m\u001b[0;34m\u001b[0m\u001b[0;34m\u001b[0m\u001b[0;34m\u001b[0m\u001b[0m\n\u001b[1;32m      9\u001b[0m \u001b[0mdest\u001b[0m\u001b[0;34m=\u001b[0m\u001b[0;34m\"dataset/normal/\"\u001b[0m\u001b[0;34m\u001b[0m\u001b[0;34m\u001b[0m\u001b[0m\n",
            "\u001b[0;32m/usr/lib/python3.6/shutil.py\u001b[0m in \u001b[0;36mcopy\u001b[0;34m(src, dst, follow_symlinks)\u001b[0m\n\u001b[1;32m    243\u001b[0m     \u001b[0;32mif\u001b[0m \u001b[0mos\u001b[0m\u001b[0;34m.\u001b[0m\u001b[0mpath\u001b[0m\u001b[0;34m.\u001b[0m\u001b[0misdir\u001b[0m\u001b[0;34m(\u001b[0m\u001b[0mdst\u001b[0m\u001b[0;34m)\u001b[0m\u001b[0;34m:\u001b[0m\u001b[0;34m\u001b[0m\u001b[0;34m\u001b[0m\u001b[0m\n\u001b[1;32m    244\u001b[0m         \u001b[0mdst\u001b[0m \u001b[0;34m=\u001b[0m \u001b[0mos\u001b[0m\u001b[0;34m.\u001b[0m\u001b[0mpath\u001b[0m\u001b[0;34m.\u001b[0m\u001b[0mjoin\u001b[0m\u001b[0;34m(\u001b[0m\u001b[0mdst\u001b[0m\u001b[0;34m,\u001b[0m \u001b[0mos\u001b[0m\u001b[0;34m.\u001b[0m\u001b[0mpath\u001b[0m\u001b[0;34m.\u001b[0m\u001b[0mbasename\u001b[0m\u001b[0;34m(\u001b[0m\u001b[0msrc\u001b[0m\u001b[0;34m)\u001b[0m\u001b[0;34m)\u001b[0m\u001b[0;34m\u001b[0m\u001b[0;34m\u001b[0m\u001b[0m\n\u001b[0;32m--> 245\u001b[0;31m     \u001b[0mcopyfile\u001b[0m\u001b[0;34m(\u001b[0m\u001b[0msrc\u001b[0m\u001b[0;34m,\u001b[0m \u001b[0mdst\u001b[0m\u001b[0;34m,\u001b[0m \u001b[0mfollow_symlinks\u001b[0m\u001b[0;34m=\u001b[0m\u001b[0mfollow_symlinks\u001b[0m\u001b[0;34m)\u001b[0m\u001b[0;34m\u001b[0m\u001b[0;34m\u001b[0m\u001b[0m\n\u001b[0m\u001b[1;32m    246\u001b[0m     \u001b[0mcopymode\u001b[0m\u001b[0;34m(\u001b[0m\u001b[0msrc\u001b[0m\u001b[0;34m,\u001b[0m \u001b[0mdst\u001b[0m\u001b[0;34m,\u001b[0m \u001b[0mfollow_symlinks\u001b[0m\u001b[0;34m=\u001b[0m\u001b[0mfollow_symlinks\u001b[0m\u001b[0;34m)\u001b[0m\u001b[0;34m\u001b[0m\u001b[0;34m\u001b[0m\u001b[0m\n\u001b[1;32m    247\u001b[0m     \u001b[0;32mreturn\u001b[0m \u001b[0mdst\u001b[0m\u001b[0;34m\u001b[0m\u001b[0;34m\u001b[0m\u001b[0m\n",
            "\u001b[0;32m/usr/lib/python3.6/shutil.py\u001b[0m in \u001b[0;36mcopyfile\u001b[0;34m(src, dst, follow_symlinks)\u001b[0m\n\u001b[1;32m    118\u001b[0m         \u001b[0mos\u001b[0m\u001b[0;34m.\u001b[0m\u001b[0msymlink\u001b[0m\u001b[0;34m(\u001b[0m\u001b[0mos\u001b[0m\u001b[0;34m.\u001b[0m\u001b[0mreadlink\u001b[0m\u001b[0;34m(\u001b[0m\u001b[0msrc\u001b[0m\u001b[0;34m)\u001b[0m\u001b[0;34m,\u001b[0m \u001b[0mdst\u001b[0m\u001b[0;34m)\u001b[0m\u001b[0;34m\u001b[0m\u001b[0;34m\u001b[0m\u001b[0m\n\u001b[1;32m    119\u001b[0m     \u001b[0;32melse\u001b[0m\u001b[0;34m:\u001b[0m\u001b[0;34m\u001b[0m\u001b[0;34m\u001b[0m\u001b[0m\n\u001b[0;32m--> 120\u001b[0;31m         \u001b[0;32mwith\u001b[0m \u001b[0mopen\u001b[0m\u001b[0;34m(\u001b[0m\u001b[0msrc\u001b[0m\u001b[0;34m,\u001b[0m \u001b[0;34m'rb'\u001b[0m\u001b[0;34m)\u001b[0m \u001b[0;32mas\u001b[0m \u001b[0mfsrc\u001b[0m\u001b[0;34m:\u001b[0m\u001b[0;34m\u001b[0m\u001b[0;34m\u001b[0m\u001b[0m\n\u001b[0m\u001b[1;32m    121\u001b[0m             \u001b[0;32mwith\u001b[0m \u001b[0mopen\u001b[0m\u001b[0;34m(\u001b[0m\u001b[0mdst\u001b[0m\u001b[0;34m,\u001b[0m \u001b[0;34m'wb'\u001b[0m\u001b[0;34m)\u001b[0m \u001b[0;32mas\u001b[0m \u001b[0mfdst\u001b[0m\u001b[0;34m:\u001b[0m\u001b[0;34m\u001b[0m\u001b[0;34m\u001b[0m\u001b[0m\n\u001b[1;32m    122\u001b[0m                 \u001b[0mcopyfileobj\u001b[0m\u001b[0;34m(\u001b[0m\u001b[0mfsrc\u001b[0m\u001b[0;34m,\u001b[0m \u001b[0mfdst\u001b[0m\u001b[0;34m)\u001b[0m\u001b[0;34m\u001b[0m\u001b[0;34m\u001b[0m\u001b[0m\n",
            "\u001b[0;31mFileNotFoundError\u001b[0m: [Errno 2] No such file or directory: 'images\\\\auntminnie-a-2020_01_28_23_51_6665_2020_01_28_Vietnam_coronavirus.jpeg'"
          ]
        }
      ]
    },
    {
      "cell_type": "code",
      "metadata": {
        "id": "WC4a7Ne2Ea2r",
        "colab_type": "code",
        "colab": {}
      },
      "source": [
        "#reference\n",
        "#https://keras.io/applications/\n",
        "#https://www.pyimagesearch.com/\n",
        "\n",
        "import os\n",
        "import matplotlib.pyplot as plt\n",
        "from imutils import paths\n",
        "import cv2\n",
        "import numpy as np\n",
        "import tensorflow as tf\n",
        "from tensorflow import keras\n",
        "from sklearn.model_selection import train_test_split\n",
        "\n",
        "from sklearn.preprocessing import LabelBinarizer\n",
        "\n",
        "from sklearn.metrics import classification_report\n",
        "import os\n",
        "from imutils import paths"
      ],
      "execution_count": 0,
      "outputs": []
    },
    {
      "cell_type": "code",
      "metadata": {
        "id": "h7AEqkJTEa2v",
        "colab_type": "code",
        "colab": {}
      },
      "source": [
        "imagePath=list(paths.list_images(\"dataset\"))\n",
        "data=[]\n",
        "labels=[]\n",
        "for imPath in imagePath:\n",
        "    label=imPath.split(os.path.sep)[-2]\n",
        "    img=cv2.imread(imPath)\n",
        "    img=cv2.cvtColor(img, cv2.COLOR_BGR2RGB)\n",
        "    img=cv2.resize(img,(224,224))\n",
        "    data.append(img)\n",
        "    labels.append(label)\n"
      ],
      "execution_count": 0,
      "outputs": []
    },
    {
      "cell_type": "code",
      "metadata": {
        "id": "I5YYGDvUEa2x",
        "colab_type": "code",
        "colab": {}
      },
      "source": [
        "import pandas as pd\n",
        "data=np.array(data)/255.0\n",
        "label=np.array(labels)\n",
        "\n",
        "lb=LabelBinarizer()\n",
        "label=lb.fit_transform(label)\n",
        "\n",
        "label=keras.utils.to_categorical(label)\n"
      ],
      "execution_count": 0,
      "outputs": []
    },
    {
      "cell_type": "code",
      "metadata": {
        "id": "hwtbCPkpEa20",
        "colab_type": "code",
        "outputId": "d429355d-d3e8-4274-a074-def652392669",
        "colab": {
          "base_uri": "https://localhost:8080/",
          "height": 353
        }
      },
      "source": [
        "model=keras.Sequential()\n",
        "model.add(keras.layers.Conv2D(64, kernel_size=3, activation=\"relu\", input_shape=(224,224,3)))\n",
        "model.add(keras.layers.MaxPooling2D(pool_size=(4, 4), strides=None, padding='valid', data_format=None))\n",
        "model.add(keras.layers.Flatten())\n",
        "model.add(keras.layers.Dense(32,activation=\"relu\"))\n",
        "model.add(keras.layers.Dropout(0.5))\n",
        "model.add(keras.layers.Dense(2,activation=\"softmax\"))\n",
        "model.summary()"
      ],
      "execution_count": 14,
      "outputs": [
        {
          "output_type": "stream",
          "text": [
            "Model: \"sequential_2\"\n",
            "_________________________________________________________________\n",
            "Layer (type)                 Output Shape              Param #   \n",
            "=================================================================\n",
            "conv2d_2 (Conv2D)            (None, 222, 222, 64)      1792      \n",
            "_________________________________________________________________\n",
            "max_pooling2d_2 (MaxPooling2 (None, 55, 55, 64)        0         \n",
            "_________________________________________________________________\n",
            "flatten_2 (Flatten)          (None, 193600)            0         \n",
            "_________________________________________________________________\n",
            "dense_4 (Dense)              (None, 32)                6195232   \n",
            "_________________________________________________________________\n",
            "dropout_2 (Dropout)          (None, 32)                0         \n",
            "_________________________________________________________________\n",
            "dense_5 (Dense)              (None, 2)                 66        \n",
            "=================================================================\n",
            "Total params: 6,197,090\n",
            "Trainable params: 6,197,090\n",
            "Non-trainable params: 0\n",
            "_________________________________________________________________\n"
          ],
          "name": "stdout"
        }
      ]
    },
    {
      "cell_type": "code",
      "metadata": {
        "id": "riJolRQCEa24",
        "colab_type": "code",
        "colab": {}
      },
      "source": [
        "num_epochs=75\n",
        "train_X,test_X,train_y,test_y=train_test_split(data,label, test_size=0.3,stratify=label,random_state=40)\n",
        "opt=keras.optimizers.Adam(lr=0.0001, decay=0.0001/num_epochs)\n",
        "model.compile(optimizer=opt,loss=\"categorical_crossentropy\", metrics=[\"accuracy\"])"
      ],
      "execution_count": 0,
      "outputs": []
    },
    {
      "cell_type": "code",
      "metadata": {
        "id": "lG_c9LNdEa26",
        "colab_type": "code",
        "colab": {}
      },
      "source": [
        "filepath=\"covid-19.hdf5\"\n",
        "checkpoint = keras.callbacks.ModelCheckpoint(filepath, monitor='val_accuracy', verbose=1, save_best_only=True, mode='max')\n",
        "callbacks_list = [checkpoint]"
      ],
      "execution_count": 0,
      "outputs": []
    },
    {
      "cell_type": "code",
      "metadata": {
        "id": "8LHjtiWcEa28",
        "colab_type": "code",
        "outputId": "a1a9c610-aba7-4d60-d804-de7b7f37d2a5",
        "colab": {
          "base_uri": "https://localhost:8080/",
          "height": 1000
        }
      },
      "source": [
        "H=model.fit(train_X, train_y, epochs=num_epochs, validation_data=(test_X, test_y), callbacks=callbacks_list)\n"
      ],
      "execution_count": 17,
      "outputs": [
        {
          "output_type": "stream",
          "text": [
            "Epoch 1/75\n",
            "9/9 [==============================] - ETA: 0s - loss: 0.6592 - accuracy: 0.6168\n",
            "Epoch 00001: val_accuracy improved from -inf to 0.92373, saving model to covid-19.hdf5\n",
            "9/9 [==============================] - 3s 286ms/step - loss: 0.6592 - accuracy: 0.6168 - val_loss: 0.5054 - val_accuracy: 0.9237\n",
            "Epoch 2/75\n",
            "9/9 [==============================] - ETA: 0s - loss: 0.4992 - accuracy: 0.7117\n",
            "Epoch 00002: val_accuracy did not improve from 0.92373\n",
            "9/9 [==============================] - 2s 200ms/step - loss: 0.4992 - accuracy: 0.7117 - val_loss: 0.4360 - val_accuracy: 0.9237\n",
            "Epoch 3/75\n",
            "9/9 [==============================] - ETA: 0s - loss: 0.4200 - accuracy: 0.8175\n",
            "Epoch 00003: val_accuracy did not improve from 0.92373\n",
            "9/9 [==============================] - 2s 199ms/step - loss: 0.4200 - accuracy: 0.8175 - val_loss: 0.3754 - val_accuracy: 0.8305\n",
            "Epoch 4/75\n",
            "9/9 [==============================] - ETA: 0s - loss: 0.3911 - accuracy: 0.8431\n",
            "Epoch 00004: val_accuracy improved from 0.92373 to 0.93220, saving model to covid-19.hdf5\n",
            "9/9 [==============================] - 2s 231ms/step - loss: 0.3911 - accuracy: 0.8431 - val_loss: 0.3218 - val_accuracy: 0.9322\n",
            "Epoch 5/75\n",
            "9/9 [==============================] - ETA: 0s - loss: 0.3531 - accuracy: 0.8394\n",
            "Epoch 00005: val_accuracy improved from 0.93220 to 0.94068, saving model to covid-19.hdf5\n",
            "9/9 [==============================] - 2s 213ms/step - loss: 0.3531 - accuracy: 0.8394 - val_loss: 0.2885 - val_accuracy: 0.9407\n",
            "Epoch 6/75\n",
            "9/9 [==============================] - ETA: 0s - loss: 0.3403 - accuracy: 0.8869\n",
            "Epoch 00006: val_accuracy improved from 0.94068 to 0.96610, saving model to covid-19.hdf5\n",
            "9/9 [==============================] - 2s 222ms/step - loss: 0.3403 - accuracy: 0.8869 - val_loss: 0.2744 - val_accuracy: 0.9661\n",
            "Epoch 7/75\n",
            "9/9 [==============================] - ETA: 0s - loss: 0.2909 - accuracy: 0.9051\n",
            "Epoch 00007: val_accuracy did not improve from 0.96610\n",
            "9/9 [==============================] - 2s 187ms/step - loss: 0.2909 - accuracy: 0.9051 - val_loss: 0.2587 - val_accuracy: 0.9153\n",
            "Epoch 8/75\n",
            "9/9 [==============================] - ETA: 0s - loss: 0.2900 - accuracy: 0.9051\n",
            "Epoch 00008: val_accuracy did not improve from 0.96610\n",
            "9/9 [==============================] - 2s 184ms/step - loss: 0.2900 - accuracy: 0.9051 - val_loss: 0.2427 - val_accuracy: 0.9322\n",
            "Epoch 9/75\n",
            "9/9 [==============================] - ETA: 0s - loss: 0.2663 - accuracy: 0.8869\n",
            "Epoch 00009: val_accuracy did not improve from 0.96610\n",
            "9/9 [==============================] - 2s 185ms/step - loss: 0.2663 - accuracy: 0.8869 - val_loss: 0.2215 - val_accuracy: 0.9576\n",
            "Epoch 10/75\n",
            "9/9 [==============================] - ETA: 0s - loss: 0.2596 - accuracy: 0.9124\n",
            "Epoch 00010: val_accuracy did not improve from 0.96610\n",
            "9/9 [==============================] - 2s 186ms/step - loss: 0.2596 - accuracy: 0.9124 - val_loss: 0.2014 - val_accuracy: 0.9661\n",
            "Epoch 11/75\n",
            "9/9 [==============================] - ETA: 0s - loss: 0.2323 - accuracy: 0.9270\n",
            "Epoch 00011: val_accuracy did not improve from 0.96610\n",
            "9/9 [==============================] - 2s 190ms/step - loss: 0.2323 - accuracy: 0.9270 - val_loss: 0.1826 - val_accuracy: 0.9661\n",
            "Epoch 12/75\n",
            "9/9 [==============================] - ETA: 0s - loss: 0.2534 - accuracy: 0.8759\n",
            "Epoch 00012: val_accuracy did not improve from 0.96610\n",
            "9/9 [==============================] - 2s 191ms/step - loss: 0.2534 - accuracy: 0.8759 - val_loss: 0.1666 - val_accuracy: 0.9661\n",
            "Epoch 13/75\n",
            "9/9 [==============================] - ETA: 0s - loss: 0.2217 - accuracy: 0.9197\n",
            "Epoch 00013: val_accuracy did not improve from 0.96610\n",
            "9/9 [==============================] - 2s 188ms/step - loss: 0.2217 - accuracy: 0.9197 - val_loss: 0.1685 - val_accuracy: 0.9661\n",
            "Epoch 14/75\n",
            "9/9 [==============================] - ETA: 0s - loss: 0.1842 - accuracy: 0.9380\n",
            "Epoch 00014: val_accuracy did not improve from 0.96610\n",
            "9/9 [==============================] - 2s 184ms/step - loss: 0.1842 - accuracy: 0.9380 - val_loss: 0.1525 - val_accuracy: 0.9661\n",
            "Epoch 15/75\n",
            "9/9 [==============================] - ETA: 0s - loss: 0.1920 - accuracy: 0.9343\n",
            "Epoch 00015: val_accuracy did not improve from 0.96610\n",
            "9/9 [==============================] - 2s 187ms/step - loss: 0.1920 - accuracy: 0.9343 - val_loss: 0.1400 - val_accuracy: 0.9661\n",
            "Epoch 16/75\n",
            "9/9 [==============================] - ETA: 0s - loss: 0.1652 - accuracy: 0.9526\n",
            "Epoch 00016: val_accuracy did not improve from 0.96610\n",
            "9/9 [==============================] - 2s 186ms/step - loss: 0.1652 - accuracy: 0.9526 - val_loss: 0.1454 - val_accuracy: 0.9661\n",
            "Epoch 17/75\n",
            "9/9 [==============================] - ETA: 0s - loss: 0.1981 - accuracy: 0.9416\n",
            "Epoch 00017: val_accuracy did not improve from 0.96610\n",
            "9/9 [==============================] - 2s 186ms/step - loss: 0.1981 - accuracy: 0.9416 - val_loss: 0.1377 - val_accuracy: 0.9661\n",
            "Epoch 18/75\n",
            "9/9 [==============================] - ETA: 0s - loss: 0.2029 - accuracy: 0.9489\n",
            "Epoch 00018: val_accuracy did not improve from 0.96610\n",
            "9/9 [==============================] - 2s 187ms/step - loss: 0.2029 - accuracy: 0.9489 - val_loss: 0.1598 - val_accuracy: 0.9661\n",
            "Epoch 19/75\n",
            "9/9 [==============================] - ETA: 0s - loss: 0.1875 - accuracy: 0.9234\n",
            "Epoch 00019: val_accuracy did not improve from 0.96610\n",
            "9/9 [==============================] - 2s 190ms/step - loss: 0.1875 - accuracy: 0.9234 - val_loss: 0.1273 - val_accuracy: 0.9661\n",
            "Epoch 20/75\n",
            "9/9 [==============================] - ETA: 0s - loss: 0.1757 - accuracy: 0.9416\n",
            "Epoch 00020: val_accuracy did not improve from 0.96610\n",
            "9/9 [==============================] - 2s 191ms/step - loss: 0.1757 - accuracy: 0.9416 - val_loss: 0.1511 - val_accuracy: 0.9661\n",
            "Epoch 21/75\n",
            "9/9 [==============================] - ETA: 0s - loss: 0.1585 - accuracy: 0.9307\n",
            "Epoch 00021: val_accuracy improved from 0.96610 to 0.97458, saving model to covid-19.hdf5\n",
            "9/9 [==============================] - 2s 254ms/step - loss: 0.1585 - accuracy: 0.9307 - val_loss: 0.1100 - val_accuracy: 0.9746\n",
            "Epoch 22/75\n",
            "9/9 [==============================] - ETA: 0s - loss: 0.1396 - accuracy: 0.9745\n",
            "Epoch 00022: val_accuracy did not improve from 0.97458\n",
            "9/9 [==============================] - 2s 186ms/step - loss: 0.1396 - accuracy: 0.9745 - val_loss: 0.1259 - val_accuracy: 0.9661\n",
            "Epoch 23/75\n",
            "9/9 [==============================] - ETA: 0s - loss: 0.1567 - accuracy: 0.9234\n",
            "Epoch 00023: val_accuracy did not improve from 0.97458\n",
            "9/9 [==============================] - 2s 187ms/step - loss: 0.1567 - accuracy: 0.9234 - val_loss: 0.0990 - val_accuracy: 0.9746\n",
            "Epoch 24/75\n",
            "9/9 [==============================] - ETA: 0s - loss: 0.1365 - accuracy: 0.9708\n",
            "Epoch 00024: val_accuracy did not improve from 0.97458\n",
            "9/9 [==============================] - 2s 188ms/step - loss: 0.1365 - accuracy: 0.9708 - val_loss: 0.1190 - val_accuracy: 0.9661\n",
            "Epoch 25/75\n",
            "9/9 [==============================] - ETA: 0s - loss: 0.1586 - accuracy: 0.9416\n",
            "Epoch 00025: val_accuracy did not improve from 0.97458\n",
            "9/9 [==============================] - 2s 184ms/step - loss: 0.1586 - accuracy: 0.9416 - val_loss: 0.1014 - val_accuracy: 0.9746\n",
            "Epoch 26/75\n",
            "9/9 [==============================] - ETA: 0s - loss: 0.1454 - accuracy: 0.9599\n",
            "Epoch 00026: val_accuracy did not improve from 0.97458\n",
            "9/9 [==============================] - 2s 183ms/step - loss: 0.1454 - accuracy: 0.9599 - val_loss: 0.1052 - val_accuracy: 0.9661\n",
            "Epoch 27/75\n",
            "9/9 [==============================] - ETA: 0s - loss: 0.1138 - accuracy: 0.9526\n",
            "Epoch 00027: val_accuracy did not improve from 0.97458\n",
            "9/9 [==============================] - 2s 189ms/step - loss: 0.1138 - accuracy: 0.9526 - val_loss: 0.0828 - val_accuracy: 0.9746\n",
            "Epoch 28/75\n",
            "9/9 [==============================] - ETA: 0s - loss: 0.1409 - accuracy: 0.9453\n",
            "Epoch 00028: val_accuracy did not improve from 0.97458\n",
            "9/9 [==============================] - 2s 186ms/step - loss: 0.1409 - accuracy: 0.9453 - val_loss: 0.1070 - val_accuracy: 0.9661\n",
            "Epoch 29/75\n",
            "9/9 [==============================] - ETA: 0s - loss: 0.1220 - accuracy: 0.9854\n",
            "Epoch 00029: val_accuracy did not improve from 0.97458\n",
            "9/9 [==============================] - 2s 185ms/step - loss: 0.1220 - accuracy: 0.9854 - val_loss: 0.0885 - val_accuracy: 0.9746\n",
            "Epoch 30/75\n",
            "9/9 [==============================] - ETA: 0s - loss: 0.1103 - accuracy: 0.9708\n",
            "Epoch 00030: val_accuracy did not improve from 0.97458\n",
            "9/9 [==============================] - 2s 182ms/step - loss: 0.1103 - accuracy: 0.9708 - val_loss: 0.1029 - val_accuracy: 0.9661\n",
            "Epoch 31/75\n",
            "9/9 [==============================] - ETA: 0s - loss: 0.1292 - accuracy: 0.9453\n",
            "Epoch 00031: val_accuracy did not improve from 0.97458\n",
            "9/9 [==============================] - 2s 183ms/step - loss: 0.1292 - accuracy: 0.9453 - val_loss: 0.0891 - val_accuracy: 0.9661\n",
            "Epoch 32/75\n",
            "9/9 [==============================] - ETA: 0s - loss: 0.1274 - accuracy: 0.9416\n",
            "Epoch 00032: val_accuracy did not improve from 0.97458\n",
            "9/9 [==============================] - 2s 183ms/step - loss: 0.1274 - accuracy: 0.9416 - val_loss: 0.0908 - val_accuracy: 0.9661\n",
            "Epoch 33/75\n",
            "9/9 [==============================] - ETA: 0s - loss: 0.1214 - accuracy: 0.9781\n",
            "Epoch 00033: val_accuracy did not improve from 0.97458\n",
            "9/9 [==============================] - 2s 184ms/step - loss: 0.1214 - accuracy: 0.9781 - val_loss: 0.0785 - val_accuracy: 0.9746\n",
            "Epoch 34/75\n",
            "9/9 [==============================] - ETA: 0s - loss: 0.1297 - accuracy: 0.9781\n",
            "Epoch 00034: val_accuracy did not improve from 0.97458\n",
            "9/9 [==============================] - 2s 182ms/step - loss: 0.1297 - accuracy: 0.9781 - val_loss: 0.0756 - val_accuracy: 0.9746\n",
            "Epoch 35/75\n",
            "9/9 [==============================] - ETA: 0s - loss: 0.1095 - accuracy: 0.9708\n",
            "Epoch 00035: val_accuracy did not improve from 0.97458\n",
            "9/9 [==============================] - 2s 183ms/step - loss: 0.1095 - accuracy: 0.9708 - val_loss: 0.0784 - val_accuracy: 0.9661\n",
            "Epoch 36/75\n",
            "9/9 [==============================] - ETA: 0s - loss: 0.1239 - accuracy: 0.9745\n",
            "Epoch 00036: val_accuracy did not improve from 0.97458\n",
            "9/9 [==============================] - 2s 186ms/step - loss: 0.1239 - accuracy: 0.9745 - val_loss: 0.0793 - val_accuracy: 0.9661\n",
            "Epoch 37/75\n",
            "9/9 [==============================] - ETA: 0s - loss: 0.1174 - accuracy: 0.9781\n",
            "Epoch 00037: val_accuracy did not improve from 0.97458\n",
            "9/9 [==============================] - 2s 186ms/step - loss: 0.1174 - accuracy: 0.9781 - val_loss: 0.0693 - val_accuracy: 0.9746\n",
            "Epoch 38/75\n",
            "9/9 [==============================] - ETA: 0s - loss: 0.1167 - accuracy: 0.9672\n",
            "Epoch 00038: val_accuracy did not improve from 0.97458\n",
            "9/9 [==============================] - 2s 185ms/step - loss: 0.1167 - accuracy: 0.9672 - val_loss: 0.0838 - val_accuracy: 0.9661\n",
            "Epoch 39/75\n",
            "9/9 [==============================] - ETA: 0s - loss: 0.1068 - accuracy: 0.9891\n",
            "Epoch 00039: val_accuracy did not improve from 0.97458\n",
            "9/9 [==============================] - 2s 182ms/step - loss: 0.1068 - accuracy: 0.9891 - val_loss: 0.0767 - val_accuracy: 0.9746\n",
            "Epoch 40/75\n",
            "9/9 [==============================] - ETA: 0s - loss: 0.1304 - accuracy: 0.9635\n",
            "Epoch 00040: val_accuracy did not improve from 0.97458\n",
            "9/9 [==============================] - 2s 184ms/step - loss: 0.1304 - accuracy: 0.9635 - val_loss: 0.0774 - val_accuracy: 0.9746\n",
            "Epoch 41/75\n",
            "9/9 [==============================] - ETA: 0s - loss: 0.1030 - accuracy: 0.9927\n",
            "Epoch 00041: val_accuracy did not improve from 0.97458\n",
            "9/9 [==============================] - 2s 187ms/step - loss: 0.1030 - accuracy: 0.9927 - val_loss: 0.0747 - val_accuracy: 0.9746\n",
            "Epoch 42/75\n",
            "9/9 [==============================] - ETA: 0s - loss: 0.0938 - accuracy: 0.9854\n",
            "Epoch 00042: val_accuracy did not improve from 0.97458\n",
            "9/9 [==============================] - 2s 186ms/step - loss: 0.0938 - accuracy: 0.9854 - val_loss: 0.0698 - val_accuracy: 0.9746\n",
            "Epoch 43/75\n",
            "9/9 [==============================] - ETA: 0s - loss: 0.1120 - accuracy: 0.9745\n",
            "Epoch 00043: val_accuracy did not improve from 0.97458\n",
            "9/9 [==============================] - 2s 188ms/step - loss: 0.1120 - accuracy: 0.9745 - val_loss: 0.0668 - val_accuracy: 0.9661\n",
            "Epoch 44/75\n",
            "9/9 [==============================] - ETA: 0s - loss: 0.0944 - accuracy: 0.9745\n",
            "Epoch 00044: val_accuracy improved from 0.97458 to 0.98305, saving model to covid-19.hdf5\n",
            "9/9 [==============================] - 2s 245ms/step - loss: 0.0944 - accuracy: 0.9745 - val_loss: 0.0634 - val_accuracy: 0.9831\n",
            "Epoch 45/75\n",
            "9/9 [==============================] - ETA: 0s - loss: 0.1237 - accuracy: 0.9818\n",
            "Epoch 00045: val_accuracy did not improve from 0.98305\n",
            "9/9 [==============================] - 2s 188ms/step - loss: 0.1237 - accuracy: 0.9818 - val_loss: 0.0967 - val_accuracy: 0.9661\n",
            "Epoch 46/75\n",
            "9/9 [==============================] - ETA: 0s - loss: 0.1090 - accuracy: 0.9708\n",
            "Epoch 00046: val_accuracy did not improve from 0.98305\n",
            "9/9 [==============================] - 2s 187ms/step - loss: 0.1090 - accuracy: 0.9708 - val_loss: 0.0692 - val_accuracy: 0.9746\n",
            "Epoch 47/75\n",
            "9/9 [==============================] - ETA: 0s - loss: 0.1101 - accuracy: 0.9781\n",
            "Epoch 00047: val_accuracy did not improve from 0.98305\n",
            "9/9 [==============================] - 2s 192ms/step - loss: 0.1101 - accuracy: 0.9781 - val_loss: 0.0853 - val_accuracy: 0.9661\n",
            "Epoch 48/75\n",
            "9/9 [==============================] - ETA: 0s - loss: 0.1171 - accuracy: 0.9599\n",
            "Epoch 00048: val_accuracy did not improve from 0.98305\n",
            "9/9 [==============================] - 2s 189ms/step - loss: 0.1171 - accuracy: 0.9599 - val_loss: 0.0618 - val_accuracy: 0.9746\n",
            "Epoch 49/75\n",
            "9/9 [==============================] - ETA: 0s - loss: 0.0933 - accuracy: 0.9927\n",
            "Epoch 00049: val_accuracy did not improve from 0.98305\n",
            "9/9 [==============================] - 2s 187ms/step - loss: 0.0933 - accuracy: 0.9927 - val_loss: 0.0852 - val_accuracy: 0.9661\n",
            "Epoch 50/75\n",
            "9/9 [==============================] - ETA: 0s - loss: 0.1135 - accuracy: 0.9818\n",
            "Epoch 00050: val_accuracy did not improve from 0.98305\n",
            "9/9 [==============================] - 2s 181ms/step - loss: 0.1135 - accuracy: 0.9818 - val_loss: 0.0652 - val_accuracy: 0.9746\n",
            "Epoch 51/75\n",
            "9/9 [==============================] - ETA: 0s - loss: 0.1147 - accuracy: 0.9672\n",
            "Epoch 00051: val_accuracy did not improve from 0.98305\n",
            "9/9 [==============================] - 2s 182ms/step - loss: 0.1147 - accuracy: 0.9672 - val_loss: 0.0759 - val_accuracy: 0.9746\n",
            "Epoch 52/75\n",
            "9/9 [==============================] - ETA: 0s - loss: 0.1003 - accuracy: 0.9818\n",
            "Epoch 00052: val_accuracy did not improve from 0.98305\n",
            "9/9 [==============================] - 2s 185ms/step - loss: 0.1003 - accuracy: 0.9818 - val_loss: 0.0759 - val_accuracy: 0.9746\n",
            "Epoch 53/75\n",
            "9/9 [==============================] - ETA: 0s - loss: 0.0834 - accuracy: 0.9964\n",
            "Epoch 00053: val_accuracy did not improve from 0.98305\n",
            "9/9 [==============================] - 2s 184ms/step - loss: 0.0834 - accuracy: 0.9964 - val_loss: 0.0621 - val_accuracy: 0.9746\n",
            "Epoch 54/75\n",
            "9/9 [==============================] - ETA: 0s - loss: 0.0964 - accuracy: 0.9818\n",
            "Epoch 00054: val_accuracy did not improve from 0.98305\n",
            "9/9 [==============================] - 2s 180ms/step - loss: 0.0964 - accuracy: 0.9818 - val_loss: 0.0785 - val_accuracy: 0.9661\n",
            "Epoch 55/75\n",
            "9/9 [==============================] - ETA: 0s - loss: 0.1010 - accuracy: 0.9818\n",
            "Epoch 00055: val_accuracy did not improve from 0.98305\n",
            "9/9 [==============================] - 2s 185ms/step - loss: 0.1010 - accuracy: 0.9818 - val_loss: 0.0655 - val_accuracy: 0.9746\n",
            "Epoch 56/75\n",
            "9/9 [==============================] - ETA: 0s - loss: 0.0687 - accuracy: 0.9854\n",
            "Epoch 00056: val_accuracy did not improve from 0.98305\n",
            "9/9 [==============================] - 2s 189ms/step - loss: 0.0687 - accuracy: 0.9854 - val_loss: 0.0786 - val_accuracy: 0.9746\n",
            "Epoch 57/75\n",
            "9/9 [==============================] - ETA: 0s - loss: 0.0770 - accuracy: 0.9927\n",
            "Epoch 00057: val_accuracy did not improve from 0.98305\n",
            "9/9 [==============================] - 2s 189ms/step - loss: 0.0770 - accuracy: 0.9927 - val_loss: 0.0644 - val_accuracy: 0.9746\n",
            "Epoch 58/75\n",
            "9/9 [==============================] - ETA: 0s - loss: 0.1097 - accuracy: 0.9745\n",
            "Epoch 00058: val_accuracy did not improve from 0.98305\n",
            "9/9 [==============================] - 2s 190ms/step - loss: 0.1097 - accuracy: 0.9745 - val_loss: 0.0664 - val_accuracy: 0.9746\n",
            "Epoch 59/75\n",
            "9/9 [==============================] - ETA: 0s - loss: 0.0810 - accuracy: 0.9891\n",
            "Epoch 00059: val_accuracy did not improve from 0.98305\n",
            "9/9 [==============================] - 2s 195ms/step - loss: 0.0810 - accuracy: 0.9891 - val_loss: 0.0580 - val_accuracy: 0.9746\n",
            "Epoch 60/75\n",
            "9/9 [==============================] - ETA: 0s - loss: 0.0899 - accuracy: 0.9818\n",
            "Epoch 00060: val_accuracy did not improve from 0.98305\n",
            "9/9 [==============================] - 1s 149ms/step - loss: 0.0899 - accuracy: 0.9818 - val_loss: 0.0670 - val_accuracy: 0.9746\n",
            "Epoch 61/75\n",
            "9/9 [==============================] - ETA: 0s - loss: 0.1056 - accuracy: 0.9818\n",
            "Epoch 00061: val_accuracy did not improve from 0.98305\n",
            "9/9 [==============================] - 1s 149ms/step - loss: 0.1056 - accuracy: 0.9818 - val_loss: 0.0595 - val_accuracy: 0.9746\n",
            "Epoch 62/75\n",
            "9/9 [==============================] - ETA: 0s - loss: 0.0855 - accuracy: 0.9891\n",
            "Epoch 00062: val_accuracy did not improve from 0.98305\n",
            "9/9 [==============================] - 1s 145ms/step - loss: 0.0855 - accuracy: 0.9891 - val_loss: 0.0743 - val_accuracy: 0.9746\n",
            "Epoch 63/75\n",
            "9/9 [==============================] - ETA: 0s - loss: 0.0590 - accuracy: 0.9927\n",
            "Epoch 00063: val_accuracy did not improve from 0.98305\n",
            "9/9 [==============================] - 1s 147ms/step - loss: 0.0590 - accuracy: 0.9927 - val_loss: 0.0681 - val_accuracy: 0.9746\n",
            "Epoch 64/75\n",
            "9/9 [==============================] - ETA: 0s - loss: 0.0686 - accuracy: 0.9927\n",
            "Epoch 00064: val_accuracy did not improve from 0.98305\n",
            "9/9 [==============================] - 1s 145ms/step - loss: 0.0686 - accuracy: 0.9927 - val_loss: 0.0696 - val_accuracy: 0.9746\n",
            "Epoch 65/75\n",
            "9/9 [==============================] - ETA: 0s - loss: 0.0813 - accuracy: 0.9818\n",
            "Epoch 00065: val_accuracy did not improve from 0.98305\n",
            "9/9 [==============================] - 1s 143ms/step - loss: 0.0813 - accuracy: 0.9818 - val_loss: 0.0757 - val_accuracy: 0.9746\n",
            "Epoch 66/75\n",
            "9/9 [==============================] - ETA: 0s - loss: 0.0795 - accuracy: 0.9781\n",
            "Epoch 00066: val_accuracy did not improve from 0.98305\n",
            "9/9 [==============================] - 1s 143ms/step - loss: 0.0795 - accuracy: 0.9781 - val_loss: 0.0570 - val_accuracy: 0.9746\n",
            "Epoch 67/75\n",
            "9/9 [==============================] - ETA: 0s - loss: 0.0932 - accuracy: 1.0000\n",
            "Epoch 00067: val_accuracy did not improve from 0.98305\n",
            "9/9 [==============================] - 1s 142ms/step - loss: 0.0932 - accuracy: 1.0000 - val_loss: 0.0752 - val_accuracy: 0.9746\n",
            "Epoch 68/75\n",
            "9/9 [==============================] - ETA: 0s - loss: 0.0838 - accuracy: 0.9818\n",
            "Epoch 00068: val_accuracy did not improve from 0.98305\n",
            "9/9 [==============================] - 1s 142ms/step - loss: 0.0838 - accuracy: 0.9818 - val_loss: 0.0636 - val_accuracy: 0.9746\n",
            "Epoch 69/75\n",
            "9/9 [==============================] - ETA: 0s - loss: 0.0791 - accuracy: 0.9818\n",
            "Epoch 00069: val_accuracy did not improve from 0.98305\n",
            "9/9 [==============================] - 1s 142ms/step - loss: 0.0791 - accuracy: 0.9818 - val_loss: 0.0625 - val_accuracy: 0.9746\n",
            "Epoch 70/75\n",
            "9/9 [==============================] - ETA: 0s - loss: 0.0730 - accuracy: 0.9891\n",
            "Epoch 00070: val_accuracy did not improve from 0.98305\n",
            "9/9 [==============================] - 1s 145ms/step - loss: 0.0730 - accuracy: 0.9891 - val_loss: 0.0744 - val_accuracy: 0.9746\n",
            "Epoch 71/75\n",
            "9/9 [==============================] - ETA: 0s - loss: 0.0879 - accuracy: 0.9927\n",
            "Epoch 00071: val_accuracy did not improve from 0.98305\n",
            "9/9 [==============================] - 1s 145ms/step - loss: 0.0879 - accuracy: 0.9927 - val_loss: 0.0563 - val_accuracy: 0.9746\n",
            "Epoch 72/75\n",
            "9/9 [==============================] - ETA: 0s - loss: 0.0621 - accuracy: 0.9927\n",
            "Epoch 00072: val_accuracy did not improve from 0.98305\n",
            "9/9 [==============================] - 1s 142ms/step - loss: 0.0621 - accuracy: 0.9927 - val_loss: 0.0607 - val_accuracy: 0.9746\n",
            "Epoch 73/75\n",
            "9/9 [==============================] - ETA: 0s - loss: 0.0885 - accuracy: 0.9781\n",
            "Epoch 00073: val_accuracy did not improve from 0.98305\n",
            "9/9 [==============================] - 1s 143ms/step - loss: 0.0885 - accuracy: 0.9781 - val_loss: 0.0931 - val_accuracy: 0.9661\n",
            "Epoch 74/75\n",
            "9/9 [==============================] - ETA: 0s - loss: 0.0997 - accuracy: 0.9745\n",
            "Epoch 00074: val_accuracy did not improve from 0.98305\n",
            "9/9 [==============================] - 1s 147ms/step - loss: 0.0997 - accuracy: 0.9745 - val_loss: 0.0504 - val_accuracy: 0.9746\n",
            "Epoch 75/75\n",
            "9/9 [==============================] - ETA: 0s - loss: 0.0865 - accuracy: 0.9927\n",
            "Epoch 00075: val_accuracy did not improve from 0.98305\n",
            "9/9 [==============================] - 1s 142ms/step - loss: 0.0865 - accuracy: 0.9927 - val_loss: 0.0644 - val_accuracy: 0.9746\n"
          ],
          "name": "stdout"
        }
      ]
    },
    {
      "cell_type": "code",
      "metadata": {
        "id": "BGfpx1BaEa3A",
        "colab_type": "code",
        "outputId": "9f7f1ab4-daa7-41f1-aa19-93690318137f",
        "colab": {
          "base_uri": "https://localhost:8080/",
          "height": 316
        }
      },
      "source": [
        "train_loss=H.history['loss']\n",
        "val_loss=H.history['val_loss']\n",
        "N=num_epochs #number of epochs\n",
        "plt.style.use(\"ggplot\")\n",
        "plt.figure()\n",
        "plt.plot(np.arange(0, N), H.history[\"loss\"], label=\"train_loss\")\n",
        "plt.plot(np.arange(0, N), H.history[\"val_loss\"], label=\"val_loss\")\n",
        "plt.plot(np.arange(0, N), H.history[\"accuracy\"], label=\"train_acc\")\n",
        "plt.plot(np.arange(0, N), H.history[\"val_accuracy\"], label=\"val_acc\")\n",
        "plt.title(\"Training Loss and Accuracy on COVID-19 Dataset\")\n",
        "plt.xlabel(\"Epoch #\")\n",
        "plt.ylabel(\"Loss/Accuracy\")\n",
        "plt.legend(loc=\"center\")\n"
      ],
      "execution_count": 18,
      "outputs": [
        {
          "output_type": "execute_result",
          "data": {
            "text/plain": [
              "<matplotlib.legend.Legend at 0x7fb17ddf95c0>"
            ]
          },
          "metadata": {
            "tags": []
          },
          "execution_count": 18
        },
        {
          "output_type": "display_data",
          "data": {
            "image/png": "[encoded data removed]",
            "text/plain": [
              "<Figure size 432x288 with 1 Axes>"
            ]
          },
          "metadata": {
            "tags": []
          }
        }
      ]
    },
    {
      "cell_type": "code",
      "metadata": {
        "id": "ToQ46_K_6Z0h",
        "colab_type": "code",
        "colab": {}
      },
      "source": [
        ""
      ],
      "execution_count": 0,
      "outputs": []
    },
    {
      "cell_type": "code",
      "metadata": {
        "id": "qdcwh4uaEa3C",
        "colab_type": "code",
        "outputId": "da0336b0-0e7a-4527-86ef-6986820f8888",
        "colab": {
          "base_uri": "https://localhost:8080/",
          "height": 168
        }
      },
      "source": [
        "pred=model.predict(test_X)\n",
        "pred = np.argmax(pred, axis=1)\n",
        "print(classification_report(test_y.argmax(axis=1), pred, target_names=lb.classes_))"
      ],
      "execution_count": 19,
      "outputs": [
        {
          "output_type": "stream",
          "text": [
            "              precision    recall  f1-score   support\n",
            "\n",
            "       COVID       0.98      0.96      0.97        48\n",
            "      NORMAL       0.97      0.99      0.98        70\n",
            "\n",
            "    accuracy                           0.97       118\n",
            "   macro avg       0.98      0.97      0.97       118\n",
            "weighted avg       0.97      0.97      0.97       118\n",
            "\n"
          ],
          "name": "stdout"
        }
      ]
    },
    {
      "cell_type": "code",
      "metadata": {
        "id": "zkWJSW03Ea3F",
        "colab_type": "code",
        "colab": {}
      },
      "source": [
        "con_mat = tf.math.confusion_matrix(labels=test_y.argmax(axis=1), predictions=pred).numpy()\n",
        "classes=[\"covid\",\"normal\"]\n",
        "con_mat_norm = np.around(con_mat.astype('float') / con_mat.sum(axis=1)[:, np.newaxis], decimals=2)\n",
        " \n",
        "con_mat_df = pd.DataFrame(con_mat_norm,\n",
        "                     index = classes, columns = classes)\n"
      ],
      "execution_count": 0,
      "outputs": []
    },
    {
      "cell_type": "code",
      "metadata": {
        "id": "5ARm5k9XhQCe",
        "colab_type": "code",
        "outputId": "11fdcf85-4f1b-4e89-aa15-d1fbd9f9a0d8",
        "colab": {
          "base_uri": "https://localhost:8080/",
          "height": 368
        }
      },
      "source": [
        "import seaborn as sns\n",
        "figure = plt.figure(figsize=(4, 4))\n",
        "sns.heatmap(con_mat_df, annot=True,cmap=plt.cm.Blues)\n",
        "plt.tight_layout()\n",
        "plt.ylabel('True label')\n",
        "plt.xlabel('Predicted label')\n",
        "plt.show()"
      ],
      "execution_count": 21,
      "outputs": [
        {
          "output_type": "stream",
          "text": [
            "/usr/local/lib/python3.6/dist-packages/statsmodels/tools/_testing.py:19: FutureWarning: pandas.util.testing is deprecated. Use the functions in the public API at pandas.testing instead.\n",
            "  import pandas.util.testing as tm\n"
          ],
          "name": "stderr"
        },
        {
          "output_type": "display_data",
          "data": {
            "image/png": "[encoded data removed]",
            "text/plain": [
              "<Figure size 288x288 with 2 Axes>"
            ]
          },
          "metadata": {
            "tags": []
          }
        }
      ]
    },
    {
      "cell_type": "code",
      "metadata": {
        "id": "U6tELhVTisyG",
        "colab_type": "code",
        "colab": {}
      },
      "source": [
        ""
      ],
      "execution_count": 0,
      "outputs": []
    }
  ]
}